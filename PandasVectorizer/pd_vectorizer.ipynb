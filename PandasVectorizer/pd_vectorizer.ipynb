{
 "cells": [
  {
   "cell_type": "code",
   "execution_count": 1,
   "metadata": {},
   "outputs": [],
   "source": [
    "import numpy as np\n",
    "import pandas as pd\n",
    "\n",
    "def pd_vectorize(f):\n",
    "    \n",
    "    '''\n",
    "    f: np-vectorized function\n",
    "    any pd.Series argument of f will be converted to np.array automatically\n",
    "    '''\n",
    "    def g(*args, **kwarg):\n",
    "        \n",
    "        # find index\n",
    "        idx = [arg.index.tolist() for arg in (list(args) + list(kwarg.values())) if isinstance(arg, pd.Series)]\n",
    "        res = f(*args, **kwarg)\n",
    "        \n",
    "        if len(idx)==0:\n",
    "            return res\n",
    "        elif len(idx)==1:\n",
    "            return pd.Series(res, index=idx[0])\n",
    "        else:\n",
    "            # assert all index are the same\n",
    "            for _idx_ in idx[1:]:\n",
    "                assert(idx[0] == _idx_)\n",
    "            \n",
    "            return pd.Series(res, index=idx[0]) \n",
    "    \n",
    "    return g\n",
    "\n",
    "@pd_vectorize\n",
    "@np.vectorize #np-vectorize the function fist\n",
    "def my_func(a, b, c, d):  \n",
    "    if d > 0:    \n",
    "        return a * b + c\n",
    "    else:\n",
    "        return a * b - c"
   ]
  },
  {
   "cell_type": "code",
   "execution_count": 2,
   "metadata": {},
   "outputs": [
    {
     "data": {
      "text/plain": [
       "a    -20.538640\n",
       "b    -36.541111\n",
       "c    106.989763\n",
       "dtype: float64"
      ]
     },
     "execution_count": 2,
     "metadata": {},
     "output_type": "execute_result"
    }
   ],
   "source": [
    "df1 = pd.DataFrame(np.random.normal(size=(3, 2)), index=['a', 'b', 'c'], columns=['v1', 'v2'])\n",
    "df2 = pd.DataFrame(np.random.normal(size=(3, 2)), index=['a', 'b', 'c'], columns=['u1', 'u2'])\n",
    "\n",
    "my_func(100, df1['v1'], c=df1['v2'], d=df2['u2'])"
   ]
  },
  {
   "cell_type": "code",
   "execution_count": null,
   "metadata": {},
   "outputs": [],
   "source": []
  }
 ],
 "metadata": {
  "kernelspec": {
   "display_name": "Python 3",
   "language": "python",
   "name": "python3"
  },
  "language_info": {
   "codemirror_mode": {
    "name": "ipython",
    "version": 3
   },
   "file_extension": ".py",
   "mimetype": "text/x-python",
   "name": "python",
   "nbconvert_exporter": "python",
   "pygments_lexer": "ipython3",
   "version": "3.6.6"
  }
 },
 "nbformat": 4,
 "nbformat_minor": 2
}
