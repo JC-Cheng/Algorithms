{
 "cells": [
  {
   "cell_type": "code",
   "execution_count": 1,
   "metadata": {},
   "outputs": [],
   "source": [
    "from poker import Card, Hand, Pool\n",
    "from collections import Counter"
   ]
  },
  {
   "cell_type": "code",
   "execution_count": 2,
   "metadata": {},
   "outputs": [],
   "source": [
    "def One_Game(n_player=2):\n",
    "    \n",
    "    assert(n_player <= 10)\n",
    "\n",
    "    P = Pool()\n",
    "    Deck = []\n",
    "    \n",
    "    players = [Hand(P.draw(2)) for i in range(n_player)]\n",
    "    \n",
    "    for i, player in enumerate(players):\n",
    "            print('Player %d:'%i, player)\n",
    "    \n",
    "    print('\\t')\n",
    "\n",
    "    for i, n_draws in enumerate([0, 3, 1, 1]):\n",
    "\n",
    "        print('ROUND %d'%i)\n",
    "        Deck.extend(P.draw(n_draws))\n",
    "\n",
    "        print('Deck:', Deck)\n",
    "        \n",
    "        h = [p.make_combo(Deck) for p in players]\n",
    "        for i, hand in enumerate(h):\n",
    "            print(' - Player %d:'%i, hand)\n",
    "        \n",
    "        print('Result: player %d leads!'%max(range(n_player), key=lambda k: h[k]))\n",
    "        print('\\t')\n",
    "        \n",
    "        assert(sum([len(p.cards) for p in players]) + len(Deck) + P.n_remain == 52)"
   ]
  },
  {
   "cell_type": "code",
   "execution_count": 3,
   "metadata": {},
   "outputs": [
    {
     "name": "stdout",
     "output_type": "stream",
     "text": [
      "Player 0: [Clb-A, Spd-A]\n",
      "Player 1: [Dmd-Q, Dmd-9]\n",
      "Player 2: [Dmd-A, Spd-5]\n",
      "Player 3: [Hrt-4, Clb-3]\n",
      "\t\n",
      "ROUND 0\n",
      "Deck: []\n",
      " - Player 0: {PAIR(2)}[Clb-A, Spd-A]\n",
      " - Player 1: {NONE(1)}[Dmd-Q, Dmd-9]\n",
      " - Player 2: {NONE(1)}[Dmd-A, Spd-5]\n",
      " - Player 3: {NONE(1)}[Hrt-4, Clb-3]\n",
      "Result: player 0 leads!\n",
      "\t\n",
      "ROUND 1\n",
      "Deck: [Clb-7, Spd-7, Spd-9]\n",
      " - Player 0: {TWPR(3)}[Clb-A, Spd-A, Spd-9, Spd-7, Clb-7]\n",
      " - Player 1: {TWPR(3)}[Dmd-Q, Spd-9, Dmd-9, Spd-7, Clb-7]\n",
      " - Player 2: {PAIR(2)}[Dmd-A, Spd-9, Spd-7, Clb-7, Spd-5]\n",
      " - Player 3: {PAIR(2)}[Spd-9, Spd-7, Clb-7, Hrt-4, Clb-3]\n",
      "Result: player 0 leads!\n",
      "\t\n",
      "ROUND 2\n",
      "Deck: [Clb-7, Spd-7, Spd-9, Dmd-7]\n",
      " - Player 0: {FULH(7)}[Clb-A, Spd-A, Spd-7, Dmd-7, Clb-7]\n",
      " - Player 1: {FULH(7)}[Spd-9, Dmd-9, Spd-7, Dmd-7, Clb-7]\n",
      " - Player 2: {THRE(4)}[Dmd-A, Spd-9, Spd-7, Dmd-7, Clb-7]\n",
      " - Player 3: {THRE(4)}[Spd-9, Spd-7, Dmd-7, Clb-7, Hrt-4]\n",
      "Result: player 0 leads!\n",
      "\t\n",
      "ROUND 3\n",
      "Deck: [Clb-7, Spd-7, Spd-9, Dmd-7, Hrt-A]\n",
      " - Player 0: {FULH(7)}[Clb-A, Spd-A, Hrt-A, Spd-7, Dmd-7]\n",
      " - Player 1: {FULH(7)}[Spd-9, Dmd-9, Spd-7, Dmd-7, Clb-7]\n",
      " - Player 2: {FULH(7)}[Dmd-A, Hrt-A, Spd-7, Dmd-7, Clb-7]\n",
      " - Player 3: {THRE(4)}[Hrt-A, Spd-9, Spd-7, Dmd-7, Clb-7]\n",
      "Result: player 0 leads!\n",
      "\t\n"
     ]
    }
   ],
   "source": [
    "One_Game(n_player=4)"
   ]
  },
  {
   "cell_type": "code",
   "execution_count": 4,
   "metadata": {},
   "outputs": [],
   "source": [
    "def test_game(my_cards, n_player):\n",
    "    \n",
    "    assert(n_player <= 10)\n",
    "    \n",
    "    P = Pool(excluded=my_cards)\n",
    "    Deck = []\n",
    "    players = [Hand(my_cards)] + [Hand(P.draw(2)) for i in range(n_player - 1)]\n",
    "    \n",
    "    res = []\n",
    "    for i, n_draws in enumerate([0, 3, 1, 1]):\n",
    "\n",
    "        Deck.extend(P.draw(n_draws))\n",
    "        \n",
    "        h = [p.make_combo(Deck) for p in players]\n",
    "        winner = max(range(n_player), key=lambda k: h[k])\n",
    "        assert(sum([len(p.cards) for p in players]) + len(Deck) + P.n_remain == 52)\n",
    "        res.append(winner)\n",
    "        \n",
    "    return res"
   ]
  },
  {
   "cell_type": "code",
   "execution_count": 5,
   "metadata": {},
   "outputs": [],
   "source": [
    "## when you have some cards on hand with n - 1 opponents...\n",
    "\n",
    "def MC_test_game(my_cards, n_player, N=10000):\n",
    "    \n",
    "    winner_of_round = [[] for j in range(4)]\n",
    "    \n",
    "    for i in range(N):\n",
    "        res = test_game(my_cards, n_player)\n",
    "        for j in range(4):\n",
    "            winner_of_round[j].append(res[j])\n",
    "    \n",
    "    return [Counter(winner_of_round[j])[0] / N for j in range(4)]"
   ]
  },
  {
   "cell_type": "code",
   "execution_count": 6,
   "metadata": {},
   "outputs": [
    {
     "name": "stdout",
     "output_type": "stream",
     "text": [
      "2 [0.9806, 0.8606, 0.8098, 0.7593]\n",
      "3 [0.961, 0.7442, 0.667, 0.5873]\n",
      "4 [0.9422, 0.6456, 0.5468, 0.4706]\n",
      "5 [0.9257, 0.5512, 0.4431, 0.367]\n",
      "6 [0.9039, 0.4794, 0.3759, 0.3027]\n",
      "7 [0.8957, 0.4293, 0.3217, 0.2553]\n",
      "8 [0.8684, 0.3742, 0.2787, 0.23]\n",
      "9 [0.8546, 0.3405, 0.2423, 0.1966]\n"
     ]
    }
   ],
   "source": [
    "my_cards = [Card(10, 'Spd'), Card(10, 'Hrt')]\n",
    "\n",
    "# number of players v.s. winning rate at each round\n",
    "for n_player in range(2, 10):\n",
    "    print(n_player, MC_test_game(my_cards, n_player))"
   ]
  },
  {
   "cell_type": "code",
   "execution_count": null,
   "metadata": {},
   "outputs": [],
   "source": []
  }
 ],
 "metadata": {
  "kernelspec": {
   "display_name": "Python 3",
   "language": "python",
   "name": "python3"
  },
  "language_info": {
   "codemirror_mode": {
    "name": "ipython",
    "version": 3
   },
   "file_extension": ".py",
   "mimetype": "text/x-python",
   "name": "python",
   "nbconvert_exporter": "python",
   "pygments_lexer": "ipython3",
   "version": "3.6.4"
  }
 },
 "nbformat": 4,
 "nbformat_minor": 2
}
