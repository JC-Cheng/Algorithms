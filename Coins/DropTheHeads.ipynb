{
 "cells": [
  {
   "cell_type": "markdown",
   "metadata": {},
   "source": [
    "You have $N$ fair coins and toss them at the same time. Whenever there's any head up, remove those coins from the pool. Keep tossing the remaining coins until no coin left. What's the expected number of total tosses?\n",
    "\n",
    " - We have $E_0=0$, $E_1=2$. Recursively solve it for $n = 2, 3, \\cdots, N$\n",
    " - Trick: Use function attribute to store the static variables."
   ]
  },
  {
   "cell_type": "code",
   "execution_count": 1,
   "metadata": {},
   "outputs": [],
   "source": [
    "def factorial(n):\n",
    "    k = len(factorial.cache)\n",
    "    if k > n: return factorial.cache[n]\n",
    "    else:\n",
    "        while(k <= n):\n",
    "            factorial.cache.append(factorial.cache[-1] * k)\n",
    "            k = k + 1     \n",
    "        return factorial.cache[-1]\n",
    "factorial.cache = [1]\n",
    "\n",
    "def comb(n, k):\n",
    "    return factorial(n) / (factorial(k) * factorial(n - k))"
   ]
  },
  {
   "cell_type": "code",
   "execution_count": 2,
   "metadata": {},
   "outputs": [],
   "source": [
    "def E(n):\n",
    "    k = len(E.cache)\n",
    "    if k > n: return E.cache[n]\n",
    "    else:\n",
    "        while(k <= n):\n",
    "            E.cache.append((sum([comb(k, i) * (1 + E(i)) for i in range(k)]) + 1) / (2 ** k - 1))\n",
    "            k = k + 1\n",
    "        return E.cache[-1]\n",
    "E.cache = [0]\n",
    "\n",
    "# Expect: [0, 2, 8/3, 22/7, ...]"
   ]
  },
  {
   "cell_type": "code",
   "execution_count": 3,
   "metadata": {},
   "outputs": [
    {
     "data": {
      "text/plain": [
       "4.725559323634527"
      ]
     },
     "execution_count": 3,
     "metadata": {},
     "output_type": "execute_result"
    }
   ],
   "source": [
    "E(10)"
   ]
  },
  {
   "cell_type": "code",
   "execution_count": 4,
   "metadata": {},
   "outputs": [
    {
     "data": {
      "text/plain": [
       "[0,\n",
       " 2.0,\n",
       " 2.6666666666666665,\n",
       " 3.142857142857143,\n",
       " 3.5047619047619047,\n",
       " 3.794162826420891,\n",
       " 4.034818228366615,\n",
       " 4.240848926142297,\n",
       " 4.421077725815582,\n",
       " 4.581310192143427,\n",
       " 4.725559323634527]"
      ]
     },
     "execution_count": 4,
     "metadata": {},
     "output_type": "execute_result"
    }
   ],
   "source": [
    "E.cache"
   ]
  }
 ],
 "metadata": {
  "kernelspec": {
   "display_name": "Python 3",
   "language": "python",
   "name": "python3"
  },
  "language_info": {
   "codemirror_mode": {
    "name": "ipython",
    "version": 3
   },
   "file_extension": ".py",
   "mimetype": "text/x-python",
   "name": "python",
   "nbconvert_exporter": "python",
   "pygments_lexer": "ipython3",
   "version": "3.6.4"
  }
 },
 "nbformat": 4,
 "nbformat_minor": 2
}
