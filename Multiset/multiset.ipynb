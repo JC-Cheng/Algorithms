{
 "cells": [
  {
   "cell_type": "markdown",
   "metadata": {},
   "source": [
    "Find all nonempty subsets of a given multiset"
   ]
  },
  {
   "cell_type": "code",
   "execution_count": 1,
   "metadata": {},
   "outputs": [],
   "source": [
    "from multiset import multiset_subset"
   ]
  },
  {
   "cell_type": "code",
   "execution_count": 2,
   "metadata": {},
   "outputs": [
    {
     "data": {
      "text/plain": [
       "['orange',\n",
       " 'orange,orange',\n",
       " 'banana',\n",
       " 'banana,orange',\n",
       " 'banana,orange,orange',\n",
       " 'apple',\n",
       " 'apple,orange',\n",
       " 'apple,orange,orange',\n",
       " 'apple,banana',\n",
       " 'apple,banana,orange',\n",
       " 'apple,banana,orange,orange',\n",
       " 'apple,apple',\n",
       " 'apple,apple,orange',\n",
       " 'apple,apple,orange,orange',\n",
       " 'apple,apple,banana',\n",
       " 'apple,apple,banana,orange',\n",
       " 'apple,apple,banana,orange,orange']"
      ]
     },
     "execution_count": 2,
     "metadata": {},
     "output_type": "execute_result"
    }
   ],
   "source": [
    "multiset_subset('apple,banana,orange,orange,apple')"
   ]
  },
  {
   "cell_type": "code",
   "execution_count": 3,
   "metadata": {},
   "outputs": [
    {
     "data": {
      "text/plain": [
       "['ab',\n",
       " 'ba',\n",
       " 'ba,ab',\n",
       " 'ba,ba',\n",
       " 'ba,ba,ab',\n",
       " 'bb',\n",
       " 'bb,ab',\n",
       " 'bb,ba',\n",
       " 'bb,ba,ab',\n",
       " 'bb,ba,ba',\n",
       " 'bb,ba,ba,ab',\n",
       " 'bb,bb',\n",
       " 'bb,bb,ab',\n",
       " 'bb,bb,ba',\n",
       " 'bb,bb,ba,ab',\n",
       " 'bb,bb,ba,ba',\n",
       " 'bb,bb,ba,ba,ab',\n",
       " 'aa',\n",
       " 'aa,ab',\n",
       " 'aa,ba',\n",
       " 'aa,ba,ab',\n",
       " 'aa,ba,ba',\n",
       " 'aa,ba,ba,ab',\n",
       " 'aa,bb',\n",
       " 'aa,bb,ab',\n",
       " 'aa,bb,ba',\n",
       " 'aa,bb,ba,ab',\n",
       " 'aa,bb,ba,ba',\n",
       " 'aa,bb,ba,ba,ab',\n",
       " 'aa,bb,bb',\n",
       " 'aa,bb,bb,ab',\n",
       " 'aa,bb,bb,ba',\n",
       " 'aa,bb,bb,ba,ab',\n",
       " 'aa,bb,bb,ba,ba',\n",
       " 'aa,bb,bb,ba,ba,ab']"
      ]
     },
     "execution_count": 3,
     "metadata": {},
     "output_type": "execute_result"
    }
   ],
   "source": [
    "multiset_subset('aa,bb,ba,ba,ab,bb')"
   ]
  }
 ],
 "metadata": {
  "kernelspec": {
   "display_name": "Python 3",
   "language": "python",
   "name": "python3"
  },
  "language_info": {
   "codemirror_mode": {
    "name": "ipython",
    "version": 3
   },
   "file_extension": ".py",
   "mimetype": "text/x-python",
   "name": "python",
   "nbconvert_exporter": "python",
   "pygments_lexer": "ipython3",
   "version": "3.6.4"
  }
 },
 "nbformat": 4,
 "nbformat_minor": 2
}
