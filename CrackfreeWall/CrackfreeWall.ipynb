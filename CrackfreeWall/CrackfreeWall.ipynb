{
 "cells": [
  {
   "cell_type": "markdown",
   "metadata": {},
   "source": [
    "# The Crackfree Wall Problem\n",
    "\n",
    "https://stackoverflow.com/questions/3080463/solution-for-crackless-wall-problem"
   ]
  },
  {
   "cell_type": "code",
   "execution_count": 1,
   "metadata": {},
   "outputs": [],
   "source": [
    "import time\n",
    "\n",
    "# helping function to monitor the performance\n",
    "def timed(f):\n",
    "    def g(*args, **kwarg):\n",
    "        t = time.time()\n",
    "        res = f(*args, **kwarg)\n",
    "        print('Run time of [%s]: %.6f Sec.'%(f.__name__, (time.time() - t)))\n",
    "        return res\n",
    "    return g "
   ]
  },
  {
   "cell_type": "code",
   "execution_count": 2,
   "metadata": {},
   "outputs": [],
   "source": [
    "# implementation:\n",
    "\n",
    "@timed\n",
    "def possible_juncture(L, junc=[[], [], [[2]], [[3]]]):\n",
    "    \n",
    "    # calculate and store all possible positions of juncture recursively\n",
    "    while len(junc) <= L:\n",
    "        add_junc = [l + [l[-1] + 2] for l in junc[-2]] + [l + [l[-1] + 3] for l in junc[-3]]\n",
    "        junc.append(add_junc)\n",
    "    \n",
    "    # only care about interior junctures, drop the last one and save as set\n",
    "    return [set(j[:-1]) for j in junc[L]]\n",
    "\n",
    "\n",
    "@timed\n",
    "def crackfree_wall(L, H):\n",
    "    \n",
    "    if not L * H:\n",
    "        return 0\n",
    "    \n",
    "    junc = possible_juncture(L)\n",
    "    N = len(junc)\n",
    "    \n",
    "    # indexing all possible junctures, list all valid neighboring index in a list\n",
    "    # the i-th element in valid_nbr: all j-th junctures such that i-th and j-th junctures are disjoint\n",
    "    valid_nbr = [[j for j in range(N) if junc[i].isdisjoint(junc[j])] for i in range(N)]\n",
    "    \n",
    "    # set the outcome for base problem: crackfree_wall(L, 1)\n",
    "    # the i-th element in the h-th loop means the # of ways building a (L*h) wall ending with i-th type of juncture\n",
    "    res = [1] * N\n",
    "    \n",
    "    # get the outcome for sub-problem: crackfree_wall(L, h), h = 2, 3, ..., H\n",
    "    for h in range(1, H):\n",
    "        \n",
    "        # for each type of juncture, sum up all possible outcome with the previous layer\n",
    "        res = [sum([res[idx] for idx in v_nbr_list]) for v_nbr_list in valid_nbr]\n",
    "    \n",
    "    # sum over all type of juncture to get the final result\n",
    "    return sum(res)"
   ]
  },
  {
   "cell_type": "code",
   "execution_count": 3,
   "metadata": {},
   "outputs": [
    {
     "name": "stdout",
     "output_type": "stream",
     "text": [
      "Run time of [possible_juncture]: 0.000005 Sec.\n",
      "2 [set()]\n",
      "Run time of [possible_juncture]: 0.000022 Sec.\n",
      "3 [set()]\n",
      "Run time of [possible_juncture]: 0.000011 Sec.\n",
      "4 [{2}]\n",
      "Run time of [possible_juncture]: 0.000009 Sec.\n",
      "5 [{3}, {2}]\n"
     ]
    }
   ],
   "source": [
    "# test the supporting function\n",
    "\n",
    "print(2, possible_juncture(2)) # no juncture, empty set\n",
    "print(3, possible_juncture(3)) # no juncture, empty set\n",
    "print(4, possible_juncture(4)) # one juncture at {2}\n",
    "print(5, possible_juncture(5)) # two junctures at {2, 3}"
   ]
  },
  {
   "cell_type": "code",
   "execution_count": 4,
   "metadata": {},
   "outputs": [
    {
     "name": "stdout",
     "output_type": "stream",
     "text": [
      "Run time of [possible_juncture]: 0.000021 Sec.\n",
      "Run time of [crackfree_wall]: 0.002066 Sec.\n",
      "(9, 3) 8\n",
      "Run time of [possible_juncture]: 0.021999 Sec.\n",
      "Run time of [crackfree_wall]: 2.140005 Sec.\n",
      "(32, 10) 806844323190414\n"
     ]
    }
   ],
   "source": [
    "# the results\n",
    "\n",
    "print((9,3), crackfree_wall(9, 3)) #8\n",
    "print((32,10), crackfree_wall(32, 10)) #806844323190414"
   ]
  }
 ],
 "metadata": {
  "kernelspec": {
   "display_name": "Python 3",
   "language": "python",
   "name": "python3"
  },
  "language_info": {
   "codemirror_mode": {
    "name": "ipython",
    "version": 3
   },
   "file_extension": ".py",
   "mimetype": "text/x-python",
   "name": "python",
   "nbconvert_exporter": "python",
   "pygments_lexer": "ipython3",
   "version": "3.6.4"
  }
 },
 "nbformat": 4,
 "nbformat_minor": 2
}
