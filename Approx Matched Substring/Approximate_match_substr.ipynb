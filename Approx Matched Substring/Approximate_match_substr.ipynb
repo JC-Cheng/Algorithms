{
 "cells": [
  {
   "cell_type": "markdown",
   "metadata": {},
   "source": [
    "Given a text, a prefix string, and a suffix string, find the substring and its maximum text score, which is the sum of\n",
    " - Prefix Score: the length counting from the begining of substring matching the end of prefix string\n",
    " - Suffix Score: the length counting from the end of substring matchingthe begin of suffix string\n",
    " \n",
    " \n",
    "If there are multiple matches, give the substring with the lowest lexicographic order."
   ]
  },
  {
   "cell_type": "code",
   "execution_count": 1,
   "metadata": {},
   "outputs": [],
   "source": [
    "import re\n",
    "from functools import reduce"
   ]
  },
  {
   "cell_type": "code",
   "execution_count": 2,
   "metadata": {},
   "outputs": [],
   "source": [
    "def calculateScore(text, prefixString, suffixString):\n",
    "    \n",
    "    '''\n",
    "    text, prefixString, suffixString: all consist of lower case English letter\n",
    "    '''\n",
    "    \n",
    "    substr_loc = lambda sub, S: [m.span() for m in re.finditer(sub, S)]\n",
    "    \n",
    "    P = reduce(lambda a, b: a + b, [substr_loc(prefixString[i:], text) for i in range(len(prefixString))])\n",
    "    S = reduce(lambda a, b: a + b, [substr_loc(suffixString[:i+1], text) for i in range(len(suffixString))])\n",
    "    \n",
    "    N = len(text)\n",
    "    M = 0\n",
    "    begin, end = 0, len(text)\n",
    "    \n",
    "    def all_substr_loc():\n",
    "        for i in range(N):\n",
    "            for j in range(i + 1, N + 1):\n",
    "                yield (i, j)\n",
    "                \n",
    "    for i, j in all_substr_loc():\n",
    "        \n",
    "        _P = list(filter(lambda p: i == p[0] and j >= p[1] , P))\n",
    "        _S = list(filter(lambda s: i <= s[0] and j == s[1] , S))\n",
    "        \n",
    "        if len(_P) > 0 or len(_S) > 0:\n",
    "            pre_score = max([p[1] - p[0] for p in _P]) if len(_P) > 0 else 0\n",
    "            suf_score = max([s[1] - s[0] for s in _S]) if len(_S) > 0 else 0\n",
    "            t_score = pre_score + suf_score\n",
    "            \n",
    "            if t_score >= M:\n",
    "                if t_score > M:\n",
    "                    M, begin, end = t_score, i, j\n",
    "                    #print(text[begin:end], M, (pre_score , suf_score))\n",
    "                elif text[begin:end] > text[i:j]:\n",
    "                    begin, end = i, j\n",
    "                    #print(text[begin:end], M, (pre_score , suf_score))\n",
    "    \n",
    "    return (text[begin:end], M) if M > 0 else ('', 0)"
   ]
  },
  {
   "cell_type": "code",
   "execution_count": 3,
   "metadata": {},
   "outputs": [
    {
     "data": {
      "text/plain": [
       "('ocophill', 8)"
      ]
     },
     "execution_count": 3,
     "metadata": {},
     "output_type": "execute_result"
    }
   ],
   "source": [
    "calculateScore('conocophillips', 'locomoco', 'phillysteak')"
   ]
  },
  {
   "cell_type": "markdown",
   "metadata": {},
   "source": [
    " - Prefix Score = 3 (locom**oco**)\n",
    "\n",
    " - Suffix Score = 5 (**phill**ysteak)\n",
    "\n",
    " - Text Score = 8 (\"ocophill\" in con**ocophill**ips)\n",
    "\n",
    "Note that \"conocophill\" only scores 7 (**co**noco**phill**)"
   ]
  },
  {
   "cell_type": "code",
   "execution_count": 4,
   "metadata": {},
   "outputs": [
    {
     "data": {
      "text/plain": [
       "('manhattan', 6)"
      ]
     },
     "execution_count": 4,
     "metadata": {},
     "output_type": "execute_result"
    }
   ],
   "source": [
    "calculateScore('manhattan', 'woman', 'tanned')"
   ]
  },
  {
   "cell_type": "markdown",
   "metadata": {},
   "source": [
    " - Prefix Score = 3 (wo**man**)\n",
    " - Suffix Score = 3 (**tan**ned)\n",
    " - Text Score = 3 + 3 = 6 (\"manhattan\" out of **man**hat**tan**)"
   ]
  },
  {
   "cell_type": "code",
   "execution_count": 5,
   "metadata": {},
   "outputs": [
    {
     "data": {
      "text/plain": [
       "('', 0)"
      ]
     },
     "execution_count": 5,
     "metadata": {},
     "output_type": "execute_result"
    }
   ],
   "source": [
    "calculateScore('manhattan', 'tanned', 'woman')"
   ]
  },
  {
   "cell_type": "markdown",
   "metadata": {},
   "source": [
    " - Prefix Score = 0 (woman)\n",
    " - Suffix Score = 0 (tanned)\n",
    " - Text Score = 0 (\"\", nothing matched)"
   ]
  }
 ],
 "metadata": {
  "kernelspec": {
   "display_name": "Python 3",
   "language": "python",
   "name": "python3"
  },
  "language_info": {
   "codemirror_mode": {
    "name": "ipython",
    "version": 3
   },
   "file_extension": ".py",
   "mimetype": "text/x-python",
   "name": "python",
   "nbconvert_exporter": "python",
   "pygments_lexer": "ipython3",
   "version": "3.6.4"
  }
 },
 "nbformat": 4,
 "nbformat_minor": 2
}
