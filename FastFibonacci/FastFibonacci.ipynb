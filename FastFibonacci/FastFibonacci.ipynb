{
 "cells": [
  {
   "cell_type": "markdown",
   "metadata": {},
   "source": [
    "# Fast Fibonacci\n",
    "\n",
    "The Fibonacci series are defined as $F_0 = 0, F_1 = 1$ and $F_n = F_{n-1} + F_{n-2}, \\forall n \\geq 2 $. \n",
    "\n",
    "Let \n",
    "\n",
    "$$A = \\begin{bmatrix}\n",
    "1 & 1 \\\\\n",
    "1 & 0 \\\\\n",
    "\\end{bmatrix}\n",
    "\\quad\n",
    "V_n=\n",
    "\\begin{bmatrix}\n",
    "F_{n} \\\\\n",
    "F_{n-1} \\\\\n",
    "\\end{bmatrix}$$"
   ]
  },
  {
   "cell_type": "markdown",
   "metadata": {},
   "source": [
    "then we have\n",
    "$$\n",
    "\\begin{align}\n",
    "V_{n+1} &= A V_n = A^n V_1 = A^n \\begin{bmatrix}\n",
    "1 \\\\\n",
    "0 \\\\\n",
    "\\end{bmatrix} \\\\\n",
    "V_n &= A^{n-1} V_1 =  A^{n-1} A\\begin{bmatrix}\n",
    "0 \\\\\n",
    "1 \\\\\n",
    "\\end{bmatrix} = A^n\\begin{bmatrix}\n",
    "0 \\\\\n",
    "1 \\\\\n",
    "\\end{bmatrix} \\\\\n",
    "\\end{align}\n",
    "$$"
   ]
  },
  {
   "cell_type": "markdown",
   "metadata": {},
   "source": [
    "and \n",
    "$$\n",
    "\\begin{bmatrix}\n",
    "V_{n+1} & V_n\n",
    "\\end{bmatrix}\n",
    "=A^{n}\n",
    "\\begin{bmatrix}\n",
    "1 & 0 \\\\\n",
    "0 & 1 \\\\\n",
    "\\end{bmatrix}=A^n\n",
    "$$"
   ]
  },
  {
   "cell_type": "markdown",
   "metadata": {},
   "source": [
    "From this equation, for each integer $n \\geq 1$, we can take the square:\n",
    "\n",
    "$$\n",
    "\\begin{bmatrix}\n",
    "V_{2n+1} & V_{2n}\n",
    "\\end{bmatrix}\n",
    "=\n",
    "A^{2n}\n",
    "=\n",
    "\\begin{bmatrix}\n",
    "V_{n+1} & V_n\n",
    "\\end{bmatrix}\n",
    "^2\n",
    "=\n",
    "\\begin{bmatrix}\n",
    "F_{n+1}^2+F_{n}^2 & F_{n}\\left(F_{n+1}+F_{n-1}\\right) \\\\\n",
    "F_{n}\\left(F_{n+1}+F_{n-1}\\right) &F_{n}^2+F_{n-1}^2 \n",
    "\\end{bmatrix}\n",
    "$$"
   ]
  },
  {
   "cell_type": "markdown",
   "metadata": {},
   "source": [
    "which gives us:\n",
    "\n",
    "$$\n",
    "\\begin{align}\n",
    "F_{2n+1} &= F_{n+1}^2+F_{n}^2 \\\\\n",
    "F_{2n} &= F_{n}\\left(F_{n+1}+F_{n-1}\\right) = F_{n}\\left(F_{n}+2F_{n-1}\\right) \\\\\n",
    "\\end{align}\n",
    "$$\n",
    "\n",
    "for each interger $n \\geq 1$. Those two equations provide an $\\mathbb{O}(\\log n)$ solution to calculate the Fibonacci series."
   ]
  },
  {
   "cell_type": "code",
   "execution_count": 1,
   "metadata": {},
   "outputs": [],
   "source": [
    "def LogN_Fibonacci(n):\n",
    "    if n not in LogN_Fibonacci.map.keys():   \n",
    "        if n % 2:\n",
    "            k = (n + 1) // 2\n",
    "            LogN_Fibonacci.map[n] = LogN_Fibonacci(k) ** 2 + LogN_Fibonacci(k - 1) ** 2         \n",
    "        else:\n",
    "            k = n // 2\n",
    "            LogN_Fibonacci.map[n] = (2 * LogN_Fibonacci(k - 1) + LogN_Fibonacci(k)) * LogN_Fibonacci(k)\n",
    "            \n",
    "    return LogN_Fibonacci.map[n]\n",
    "\n",
    "LogN_Fibonacci.map = {0: 0, 1: 1}"
   ]
  },
  {
   "cell_type": "code",
   "execution_count": 2,
   "metadata": {},
   "outputs": [
    {
     "data": {
      "text/plain": [
       "139423224561697880139724382870407283950070256587697307264108962948325571622863290691557658876222521294125"
      ]
     },
     "execution_count": 2,
     "metadata": {},
     "output_type": "execute_result"
    }
   ],
   "source": [
    "LogN_Fibonacci(500)"
   ]
  },
  {
   "cell_type": "code",
   "execution_count": 3,
   "metadata": {},
   "outputs": [
    {
     "data": {
      "text/plain": [
       "{0: 0,\n",
       " 1: 1,\n",
       " 2: 1,\n",
       " 3: 2,\n",
       " 4: 3,\n",
       " 6: 8,\n",
       " 7: 13,\n",
       " 8: 21,\n",
       " 14: 377,\n",
       " 15: 610,\n",
       " 16: 987,\n",
       " 30: 832040,\n",
       " 31: 1346269,\n",
       " 32: 2178309,\n",
       " 61: 2504730781961,\n",
       " 62: 4052739537881,\n",
       " 63: 6557470319842,\n",
       " 124: 36726740705505779255899443,\n",
       " 125: 59425114757512643212875125,\n",
       " 249: 4880197746793002076754294951020699004973287771475874,\n",
       " 250: 7896325826131730509282738943634332893686268675876375,\n",
       " 500: 139423224561697880139724382870407283950070256587697307264108962948325571622863290691557658876222521294125}"
      ]
     },
     "execution_count": 3,
     "metadata": {},
     "output_type": "execute_result"
    }
   ],
   "source": [
    "LogN_Fibonacci.map"
   ]
  },
  {
   "cell_type": "code",
   "execution_count": null,
   "metadata": {},
   "outputs": [],
   "source": []
  }
 ],
 "metadata": {
  "kernelspec": {
   "display_name": "Python 3",
   "language": "python",
   "name": "python3"
  },
  "language_info": {
   "codemirror_mode": {
    "name": "ipython",
    "version": 3
   },
   "file_extension": ".py",
   "mimetype": "text/x-python",
   "name": "python",
   "nbconvert_exporter": "python",
   "pygments_lexer": "ipython3",
   "version": "3.6.4"
  }
 },
 "nbformat": 4,
 "nbformat_minor": 2
}
